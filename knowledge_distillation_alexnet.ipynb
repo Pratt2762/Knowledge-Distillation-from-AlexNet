{
  "cells": [
    {
      "cell_type": "code",
      "execution_count": null,
      "metadata": {
        "colab": {
          "base_uri": "https://localhost:8080/",
          "height": 36
        },
        "id": "Tj4djBSYcqHY",
        "outputId": "f5dc5afd-e29f-4a63-ee64-f9a8ac523799"
      },
      "outputs": [
        {
          "data": {
            "application/vnd.google.colaboratory.intrinsic+json": {
              "type": "string"
            },
            "text/plain": [
              "'cuda'"
            ]
          },
          "execution_count": 1,
          "metadata": {},
          "output_type": "execute_result"
        }
      ],
      "source": [
        "# Importing all necessary libraries and frameworks\n",
        "import numpy as np\n",
        "import pandas as pd\n",
        "import os\n",
        "import matplotlib.pyplot as plt\n",
        "\n",
        "import csv\n",
        "import itertools\n",
        "import collections\n",
        "\n",
        "import torch\n",
        "import torch.nn as nn\n",
        "import torch.optim as optim\n",
        "import torch.nn.functional as F\n",
        "import torchvision\n",
        "from torchvision import datasets\n",
        "from torchvision import transforms\n",
        "import torchvision.transforms.functional as TF\n",
        "import torch.utils.data as data_utils\n",
        "from torch.utils.data.sampler import SubsetRandomSampler\n",
        "from torch.autograd import Variable\n",
        "\n",
        "device = \"cuda\" if torch.cuda.is_available() else \"cpu\"\n",
        "device"
      ]
    },
    {
      "cell_type": "markdown",
      "metadata": {
        "id": "GzDY6059fda1"
      },
      "source": [
        "# Importing and loading CIFAR10 Dataset"
      ]
    },
    {
      "cell_type": "code",
      "execution_count": null,
      "metadata": {
        "colab": {
          "base_uri": "https://localhost:8080/"
        },
        "id": "oF9TZVtCcqHb",
        "outputId": "8f625b3b-f9c0-4e4a-f9c3-415c02d522d9"
      },
      "outputs": [
        {
          "name": "stdout",
          "output_type": "stream",
          "text": [
            "Downloading https://www.cs.toronto.edu/~kriz/cifar-10-python.tar.gz to ./data/cifar-10-python.tar.gz\n"
          ]
        },
        {
          "name": "stderr",
          "output_type": "stream",
          "text": [
            "100%|██████████| 170498071/170498071 [00:03<00:00, 47133485.41it/s]\n"
          ]
        },
        {
          "name": "stdout",
          "output_type": "stream",
          "text": [
            "Extracting ./data/cifar-10-python.tar.gz to ./data\n",
            "Files already downloaded and verified\n",
            "Files already downloaded and verified\n"
          ]
        }
      ],
      "source": [
        "# Defining training and validation set loaders\n",
        "def get_train_valid_loader(data_dir,\n",
        "                           batch_size,\n",
        "                           augment,\n",
        "                           random_seed,\n",
        "                           valid_size=0.1,\n",
        "                           shuffle=True):\n",
        "    normalize = transforms.Normalize(\n",
        "        mean=[0.4914, 0.4822, 0.4465],\n",
        "        std=[0.2023, 0.1994, 0.2010],\n",
        "    )\n",
        "\n",
        "    # Define transforms\n",
        "    valid_transform = transforms.Compose([\n",
        "            transforms.Resize((227,227)),\n",
        "            transforms.ToTensor(),\n",
        "            normalize,\n",
        "    ])\n",
        "    if augment:\n",
        "        train_transform = transforms.Compose([\n",
        "            transforms.RandomCrop(32, padding=4),\n",
        "            transforms.RandomHorizontalFlip(),\n",
        "            transforms.ToTensor(),\n",
        "            normalize,\n",
        "        ])\n",
        "    else:\n",
        "        train_transform = transforms.Compose([\n",
        "            transforms.Resize((227,227)),\n",
        "            transforms.ToTensor(),\n",
        "            normalize,\n",
        "        ])\n",
        "\n",
        "    # Loading the dataset\n",
        "    train_dataset = datasets.CIFAR10(\n",
        "        root=data_dir, train=True,\n",
        "        download=True, transform=train_transform,\n",
        "    )\n",
        "\n",
        "    valid_dataset = datasets.CIFAR10(\n",
        "        root=data_dir, train=True,\n",
        "        download=True, transform=valid_transform,\n",
        "    )\n",
        "\n",
        "    num_train = len(train_dataset)\n",
        "    indices = list(range(num_train))\n",
        "    split = int(np.floor(valid_size * num_train))\n",
        "\n",
        "    if shuffle:\n",
        "        np.random.seed(random_seed)\n",
        "        np.random.shuffle(indices)\n",
        "\n",
        "    train_idx, valid_idx = indices[split:], indices[:split]\n",
        "    train_sampler = SubsetRandomSampler(train_idx)\n",
        "    valid_sampler = SubsetRandomSampler(valid_idx)\n",
        "\n",
        "    train_loader = torch.utils.data.DataLoader(\n",
        "        train_dataset, batch_size=batch_size, sampler=train_sampler)\n",
        "\n",
        "    valid_loader = torch.utils.data.DataLoader(\n",
        "        valid_dataset, batch_size=batch_size, sampler=valid_sampler)\n",
        "\n",
        "    return (train_loader, valid_loader)\n",
        "\n",
        "\n",
        "# Defining testing set loaders\n",
        "def get_test_loader(data_dir,\n",
        "                    batch_size,\n",
        "                    shuffle=True):\n",
        "    normalize = transforms.Normalize(\n",
        "        mean=[0.485, 0.456, 0.406],\n",
        "        std=[0.229, 0.224, 0.225],\n",
        "    )\n",
        "\n",
        "    # define transform\n",
        "    transform = transforms.Compose([\n",
        "        transforms.Resize((227,227)),\n",
        "        transforms.ToTensor(),\n",
        "        normalize,\n",
        "    ])\n",
        "\n",
        "    dataset = datasets.CIFAR10(\n",
        "        root=data_dir, train=False,\n",
        "        download=True, transform=transform,\n",
        "    )\n",
        "\n",
        "    data_loader = torch.utils.data.DataLoader(\n",
        "        dataset, batch_size=batch_size, shuffle=shuffle\n",
        "    )\n",
        "\n",
        "    return data_loader\n",
        "\n",
        "\n",
        "# CIFAR10 dataset\n",
        "train_loader, val_loader = get_train_valid_loader(data_dir = './data', batch_size = 64,\n",
        "                       augment = False, random_seed = 1)\n",
        "\n",
        "test_loader = get_test_loader(data_dir = './data',\n",
        "                              batch_size = 64)"
      ]
    },
    {
      "cell_type": "markdown",
      "metadata": {
        "id": "r7bHQdtMfjcM"
      },
      "source": [
        "# Teacher Network (AlexNet) - 222 MB"
      ]
    },
    {
      "cell_type": "code",
      "execution_count": null,
      "metadata": {
        "id": "PseVvA_McqHd"
      },
      "outputs": [],
      "source": [
        "# Defining the teacher network (AlexNet)\n",
        "\n",
        "class AlexNet(nn.Module):\n",
        "    def __init__(self, num_classes=10):\n",
        "        super(AlexNet, self).__init__()\n",
        "        self.layer1 = nn.Sequential(\n",
        "            nn.Conv2d(3, 96, kernel_size=11, stride=4, padding=0), # output - 96x55x55\n",
        "            nn.BatchNorm2d(96),\n",
        "            nn.ReLU(),\n",
        "            nn.MaxPool2d(kernel_size = 3, stride = 2)) # output - 96x27x27\n",
        "        self.layer2 = nn.Sequential(\n",
        "            nn.Conv2d(96, 256, kernel_size=5, stride=1, padding=2), # output - 256x27x27\n",
        "            nn.BatchNorm2d(256),\n",
        "            nn.ReLU(),\n",
        "            nn.MaxPool2d(kernel_size = 3, stride = 2)) # output - 256x13x13\n",
        "        self.layer3 = nn.Sequential(\n",
        "            nn.Conv2d(256, 384, kernel_size=3, stride=1, padding=1), # output - 384x13x13\n",
        "            nn.BatchNorm2d(384),\n",
        "            nn.ReLU())\n",
        "        self.layer4 = nn.Sequential(\n",
        "            nn.Conv2d(384, 384, kernel_size=3, stride=1, padding=1),\n",
        "            nn.BatchNorm2d(384),\n",
        "            nn.ReLU())\n",
        "        self.layer5 = nn.Sequential(\n",
        "            nn.Conv2d(384, 256, kernel_size=3, stride=1, padding=1), # output - 256x13x13\n",
        "            nn.BatchNorm2d(256),\n",
        "            nn.ReLU(),\n",
        "            nn.MaxPool2d(kernel_size = 3, stride = 2)) # output - 256x6x6\n",
        "        self.fc = nn.Sequential(\n",
        "            nn.Dropout(0.5),\n",
        "            nn.Linear(9216, 4096),\n",
        "            nn.ReLU())\n",
        "        self.fc1 = nn.Sequential(\n",
        "            nn.Dropout(0.5),\n",
        "            nn.Linear(4096, 4096),\n",
        "            nn.ReLU())\n",
        "        self.fc2= nn.Sequential(\n",
        "            nn.Linear(4096, num_classes))\n",
        "\n",
        "    def forward(self, x):\n",
        "        out = self.layer1(x)\n",
        "        out = self.layer2(out)\n",
        "        out = self.layer3(out)\n",
        "        out = self.layer4(out)\n",
        "        out = self.layer5(out)\n",
        "        out = out.reshape(out.size(0), -1)\n",
        "        out = self.fc(out)\n",
        "        out = self.fc1(out)\n",
        "        out = self.fc2(out)\n",
        "        return out"
      ]
    },
    {
      "cell_type": "code",
      "execution_count": null,
      "metadata": {
        "id": "7ZFOFLpocqHd"
      },
      "outputs": [],
      "source": [
        "# Model training parameters\n",
        "num_classes = 10\n",
        "epochs = 20\n",
        "batch_size = 64\n",
        "learning_rate = 0.005\n",
        "\n",
        "teacher = AlexNet(num_classes).to(device)\n",
        "\n",
        "# Loss and optimizer\n",
        "criterion = nn.CrossEntropyLoss()\n",
        "optimizer = torch.optim.SGD(teacher.parameters(), lr=learning_rate, weight_decay = 0.005, momentum = 0.9)"
      ]
    },
    {
      "cell_type": "code",
      "execution_count": null,
      "metadata": {
        "colab": {
          "base_uri": "https://localhost:8080/"
        },
        "id": "PYWABrvscqHe",
        "outputId": "7afeeb23-f55a-48b8-aaa1-2e624294be8d"
      },
      "outputs": [
        {
          "name": "stdout",
          "output_type": "stream",
          "text": [
            "Epoch [1 / 20] | Train Loss: 1.397 | Validation Accuracy: 59 %\n",
            "\n",
            "Epoch [2 / 20] | Train Loss: 0.984 | Validation Accuracy: 69 %\n",
            "\n",
            "Epoch [3 / 20] | Train Loss: 0.822 | Validation Accuracy: 72 %\n",
            "\n",
            "Epoch [4 / 20] | Train Loss: 0.725 | Validation Accuracy: 76 %\n",
            "\n",
            "Epoch [5 / 20] | Train Loss: 0.653 | Validation Accuracy: 76 %\n",
            "\n",
            "Epoch [6 / 20] | Train Loss: 0.602 | Validation Accuracy: 77 %\n",
            "\n",
            "Epoch [7 / 20] | Train Loss: 0.562 | Validation Accuracy: 79 %\n",
            "\n",
            "Epoch [8 / 20] | Train Loss: 0.517 | Validation Accuracy: 78 %\n",
            "\n",
            "Epoch [9 / 20] | Train Loss: 0.488 | Validation Accuracy: 81 %\n",
            "\n",
            "Epoch [10 / 20] | Train Loss: 0.453 | Validation Accuracy: 81 %\n",
            "\n",
            "Epoch [11 / 20] | Train Loss: 0.435 | Validation Accuracy: 80 %\n",
            "\n",
            "Epoch [12 / 20] | Train Loss: 0.410 | Validation Accuracy: 81 %\n",
            "\n",
            "Epoch [13 / 20] | Train Loss: 0.396 | Validation Accuracy: 81 %\n",
            "\n",
            "Epoch [14 / 20] | Train Loss: 0.374 | Validation Accuracy: 82 %\n",
            "\n",
            "Epoch [15 / 20] | Train Loss: 0.368 | Validation Accuracy: 81 %\n",
            "\n",
            "Epoch [16 / 20] | Train Loss: 0.356 | Validation Accuracy: 82 %\n",
            "\n",
            "Epoch [17 / 20] | Train Loss: 0.338 | Validation Accuracy: 81 %\n",
            "\n",
            "Epoch [18 / 20] | Train Loss: 0.331 | Validation Accuracy: 81 %\n",
            "\n",
            "Epoch [19 / 20] | Train Loss: 0.327 | Validation Accuracy: 83 %\n",
            "\n",
            "Epoch [20 / 20] | Train Loss: 0.316 | Validation Accuracy: 81 %\n",
            "\n"
          ]
        }
      ],
      "source": [
        "# Load pretrained model if it is available\n",
        "if os.path.exists('alexnet_pretrain.pth'):\n",
        "    teacher = AlexNet(num_classes).to(device)\n",
        "    teacher.load_state_dict(torch.load('alexnet_pretrain.pth'))\n",
        "else:\n",
        "    for i in range(epochs):\n",
        "      running_loss = 0.0\n",
        "      correct = 0\n",
        "      total = 0\n",
        "      for inputs, labels in train_loader:\n",
        "        inputs, labels = inputs.to(device), labels.to(device)\n",
        "        predictions = teacher(inputs)\n",
        "        loss = criterion(predictions, labels)\n",
        "\n",
        "        # Backward and optimize\n",
        "        optimizer.zero_grad()\n",
        "        loss.backward()\n",
        "        running_loss += loss.item()\n",
        "        optimizer.step()\n",
        "\n",
        "      # Finding out training loss\n",
        "      train_loss = running_loss/len(train_loader)\n",
        "      # training_loss.append(train_loss)\n",
        "\n",
        "      print('Epoch [%d / %d] | Train Loss: %.3f |'%((i+1), epochs, train_loss), end=' ')\n",
        "\n",
        "      # Finding out validation loss and accuracy\n",
        "      running_loss = 0.0\n",
        "      with torch.no_grad():\n",
        "          for inputs, labels in val_loader:\n",
        "              inputs, labels = inputs.to(device), labels.to(device)\n",
        "              outputs = teacher(inputs)\n",
        "              loss = criterion(outputs, labels)\n",
        "              running_loss += loss.item()\n",
        "\n",
        "              predictions = F.softmax(outputs, dim = 1)\n",
        "              _, predicted = torch.max(predictions.data, 1)\n",
        "              total += labels.size(0)\n",
        "              correct += (predicted == labels).sum().item()\n",
        "\n",
        "      val_loss = running_loss/len(val_loader)\n",
        "      # validation_loss.append(val_loss)\n",
        "      print(f'Validation Accuracy: {100 * correct // total} %')\n",
        "      print()\n",
        "\n",
        "    # Saving the teacher model\n",
        "    torch.save(teacher.state_dict(), 'alexnet_pretrain.pth')"
      ]
    },
    {
      "cell_type": "code",
      "execution_count": null,
      "metadata": {
        "colab": {
          "base_uri": "https://localhost:8080/"
        },
        "id": "cV5tVmrlcqHe",
        "outputId": "3e86e1d6-e402-4555-f1ba-eb2849b2ddb3"
      },
      "outputs": [
        {
          "name": "stdout",
          "output_type": "stream",
          "text": [
            "The training set accuracy is : 90 %\n",
            "The validation set accuracy is : 81 %\n",
            "The testing set accuracy is : 81 %\n"
          ]
        }
      ],
      "source": [
        "# Finding out accuracy of the model on train, val and test data\n",
        "def evaluate(model, train_loader, val_loader, test_loader):\n",
        "    correct = 0\n",
        "    total = 0\n",
        "\n",
        "    with torch.no_grad():\n",
        "        for inputs, labels in train_loader:\n",
        "            inputs, labels = inputs.to(device), labels.to(device)\n",
        "            predictions = model(inputs)\n",
        "            predictions = F.softmax(predictions, dim = 1)\n",
        "            _, predicted = torch.max(predictions.data, 1)\n",
        "            total += labels.size(0)\n",
        "            correct += (predicted == labels).sum().item()\n",
        "\n",
        "    train_acc = 100 * correct // total\n",
        "    print(f'The training set accuracy is : {train_acc} %')\n",
        "\n",
        "    correct = 0\n",
        "    total = 0\n",
        "\n",
        "    with torch.no_grad():\n",
        "        for inputs,labels in val_loader:\n",
        "            inputs, labels = inputs.to(device), labels.to(device)\n",
        "            predictions = model(inputs)\n",
        "            predictions = F.softmax(predictions, dim = 1)\n",
        "            _, predicted = torch.max(predictions.data, 1)\n",
        "            total += labels.size(0)\n",
        "            correct += (predicted == labels).sum().item()\n",
        "\n",
        "    val_acc = 100 * correct // total\n",
        "    print(f'The validation set accuracy is : {val_acc} %')\n",
        "\n",
        "    correct = 0\n",
        "    total = 0\n",
        "\n",
        "    with torch.no_grad():\n",
        "        for inputs,labels in test_loader:\n",
        "            inputs, labels = inputs.to(device), labels.to(device)\n",
        "            predictions = model(inputs)\n",
        "            predictions = F.softmax(predictions, dim = 1)\n",
        "            _, predicted = torch.max(predictions.data, 1)\n",
        "            total += labels.size(0)\n",
        "            correct += (predicted == labels).sum().item()\n",
        "\n",
        "    test_acc = 100 * correct // total\n",
        "    print(f'The testing set accuracy is : {test_acc} %')\n",
        "\n",
        "    return train_acc, val_acc, test_acc\n",
        "\n",
        "\n",
        "train_acc, val_acc, test_acc = evaluate(teacher, train_loader, val_loader, test_loader)"
      ]
    },
    {
      "cell_type": "code",
      "execution_count": null,
      "metadata": {
        "colab": {
          "base_uri": "https://localhost:8080/"
        },
        "id": "UQ8BWXBVcqHf",
        "outputId": "77454ba9-bbaa-4f7d-d8b4-76b23310d4e6"
      },
      "outputs": [
        {
          "name": "stdout",
          "output_type": "stream",
          "text": [
            "The number of trainable parameters is - 58325066\n",
            "model size: 222.503MB\n"
          ]
        }
      ],
      "source": [
        "# Finding out number of trainable parameters in the model architecture\n",
        "def find_num_params(model):\n",
        "    total_params = sum(\n",
        "      param.numel() for param in model.parameters()\n",
        "    )\n",
        "\n",
        "    print(\"The number of trainable parameters is -\", total_params)\n",
        "\n",
        "\n",
        "# Finding out size of the model\n",
        "def find_size_model(model):\n",
        "    param_size = 0\n",
        "    for param in model.parameters():\n",
        "        param_size += param.nelement() * param.element_size()\n",
        "    buffer_size = 0\n",
        "    for buffer in model.buffers():\n",
        "        buffer_size += buffer.nelement() * buffer.element_size()\n",
        "\n",
        "    size_all_mb = (param_size + buffer_size) / 1024**2\n",
        "    print('model size: {:.3f}MB'.format(size_all_mb))\n",
        "\n",
        "\n",
        "find_num_params(teacher)\n",
        "find_size_model(teacher)"
      ]
    },
    {
      "cell_type": "markdown",
      "metadata": {
        "id": "xItUeHBNfuMl"
      },
      "source": [
        "# Student Network - 2.8 MB"
      ]
    },
    {
      "cell_type": "code",
      "execution_count": null,
      "metadata": {
        "id": "KOBfanCLcqHf"
      },
      "outputs": [],
      "source": [
        "# Defining the student network architecture\n",
        "\n",
        "class Student(nn.Module):\n",
        "    def __init__(self, num_classes=10):\n",
        "        super(Student, self).__init__()\n",
        "        self.layer1 = nn.Sequential(\n",
        "            nn.Conv2d(3, 16, kernel_size=11, stride=4, padding=0), # output - 16x55x55\n",
        "            nn.BatchNorm2d(16),\n",
        "            nn.ReLU(),\n",
        "            nn.MaxPool2d(kernel_size = 3, stride = 2)) # output - 16x27x27\n",
        "        self.layer2 = nn.Sequential(\n",
        "            nn.Conv2d(16, 32, kernel_size=5, stride=2, padding=2), # output - 32x14x14\n",
        "            nn.BatchNorm2d(32),\n",
        "            nn.ReLU(),\n",
        "            nn.MaxPool2d(kernel_size = 3, stride = 2)) # output - 32x6x6\n",
        "\n",
        "        self.fc = nn.Sequential(\n",
        "            nn.Dropout(0.5),\n",
        "            nn.Linear(1152, 512),\n",
        "            nn.ReLU())\n",
        "        self.fc1 = nn.Sequential(\n",
        "            nn.Dropout(0.5),\n",
        "            nn.Linear(512, 256),\n",
        "            nn.ReLU())\n",
        "        self.fc2= nn.Sequential(\n",
        "            nn.Linear(256, num_classes))\n",
        "\n",
        "    def forward(self, x):\n",
        "        out = self.layer1(x)\n",
        "        out = self.layer2(out)\n",
        "        out = out.reshape(out.size(0), -1)\n",
        "        out = self.fc(out)\n",
        "        out = self.fc1(out)\n",
        "        out = self.fc2(out)\n",
        "        return out"
      ]
    },
    {
      "cell_type": "markdown",
      "metadata": {
        "id": "jFkqqhozfzGG"
      },
      "source": [
        "# Student1"
      ]
    },
    {
      "cell_type": "code",
      "execution_count": null,
      "metadata": {
        "colab": {
          "base_uri": "https://localhost:8080/"
        },
        "id": "tkpwqfRZcqHf",
        "outputId": "bde051ba-14d6-4e8b-fd5a-cff62930d9dc"
      },
      "outputs": [
        {
          "name": "stdout",
          "output_type": "stream",
          "text": [
            "Student(\n",
            "  (layer1): Sequential(\n",
            "    (0): Conv2d(3, 16, kernel_size=(11, 11), stride=(4, 4))\n",
            "    (1): BatchNorm2d(16, eps=1e-05, momentum=0.1, affine=True, track_running_stats=True)\n",
            "    (2): ReLU()\n",
            "    (3): MaxPool2d(kernel_size=3, stride=2, padding=0, dilation=1, ceil_mode=False)\n",
            "  )\n",
            "  (layer2): Sequential(\n",
            "    (0): Conv2d(16, 32, kernel_size=(5, 5), stride=(2, 2), padding=(2, 2))\n",
            "    (1): BatchNorm2d(32, eps=1e-05, momentum=0.1, affine=True, track_running_stats=True)\n",
            "    (2): ReLU()\n",
            "    (3): MaxPool2d(kernel_size=3, stride=2, padding=0, dilation=1, ceil_mode=False)\n",
            "  )\n",
            "  (fc): Sequential(\n",
            "    (0): Dropout(p=0.5, inplace=False)\n",
            "    (1): Linear(in_features=1152, out_features=512, bias=True)\n",
            "    (2): ReLU()\n",
            "  )\n",
            "  (fc1): Sequential(\n",
            "    (0): Dropout(p=0.5, inplace=False)\n",
            "    (1): Linear(in_features=512, out_features=256, bias=True)\n",
            "    (2): ReLU()\n",
            "  )\n",
            "  (fc2): Sequential(\n",
            "    (0): Linear(in_features=256, out_features=10, bias=True)\n",
            "  )\n",
            ")\n"
          ]
        }
      ],
      "source": [
        "student1 = Student()\n",
        "student1 = student1.to(device)\n",
        "\n",
        "print(student1)"
      ]
    },
    {
      "cell_type": "code",
      "execution_count": null,
      "metadata": {
        "colab": {
          "base_uri": "https://localhost:8080/"
        },
        "id": "twQkRId_cqHg",
        "outputId": "bbdf52e1-2450-4810-e8e3-0fb143d82dd6"
      },
      "outputs": [
        {
          "name": "stdout",
          "output_type": "stream",
          "text": [
            "The number of trainable parameters is - 742986\n",
            "model size: 2.835MB\n"
          ]
        }
      ],
      "source": [
        "# Finding number of parameters and size of the model\n",
        "find_num_params(student1)\n",
        "find_size_model(student1)"
      ]
    },
    {
      "cell_type": "code",
      "execution_count": null,
      "metadata": {
        "id": "L1VAhKSAcqHg"
      },
      "outputs": [],
      "source": [
        "# Defining the training parameters\n",
        "num_classes = 10\n",
        "epochs = 10\n",
        "batch_size = 64\n",
        "learning_rate = 0.005\n",
        "\n",
        "# Loss and optimizer\n",
        "criterion = nn.CrossEntropyLoss()\n",
        "optimizer = torch.optim.SGD(student1.parameters(), lr=learning_rate, weight_decay = 0.005, momentum = 0.9)"
      ]
    },
    {
      "cell_type": "code",
      "execution_count": null,
      "metadata": {
        "colab": {
          "base_uri": "https://localhost:8080/"
        },
        "id": "_7aVdf62cqHg",
        "outputId": "812c783b-e364-4a2e-b8b4-aec90d2b048c"
      },
      "outputs": [
        {
          "name": "stdout",
          "output_type": "stream",
          "text": [
            "Epoch [1 / 10] | Train Loss: 2.241 | Validation Accuracy: 30 %\n",
            "\n",
            "Epoch [2 / 10] | Train Loss: 2.105 | Validation Accuracy: 39 %\n",
            "\n",
            "Epoch [3 / 10] | Train Loss: 2.047 | Validation Accuracy: 44 %\n",
            "\n",
            "Epoch [4 / 10] | Train Loss: 2.012 | Validation Accuracy: 45 %\n",
            "\n",
            "Epoch [5 / 10] | Train Loss: 1.991 | Validation Accuracy: 49 %\n",
            "\n",
            "Epoch [6 / 10] | Train Loss: 1.974 | Validation Accuracy: 49 %\n",
            "\n",
            "Epoch [7 / 10] | Train Loss: 1.965 | Validation Accuracy: 53 %\n",
            "\n",
            "Epoch [8 / 10] | Train Loss: 1.955 | Validation Accuracy: 49 %\n",
            "\n",
            "Epoch [9 / 10] | Train Loss: 1.946 | Validation Accuracy: 52 %\n",
            "\n",
            "Epoch [10 / 10] | Train Loss: 1.942 | Validation Accuracy: 52 %\n",
            "\n"
          ]
        }
      ],
      "source": [
        "# Student1 - learns entirely from the training data, no contribution of teacher network\n",
        "\n",
        "alpha = 1.0\n",
        "\n",
        "training_loss_1 = []\n",
        "validation_loss_1 = []\n",
        "\n",
        "for i in range(epochs):\n",
        "  running_loss = 0.0\n",
        "  correct = 0\n",
        "  total = 0\n",
        "  for inputs, labels in train_loader:\n",
        "    inputs, labels = inputs.to(device), labels.to(device)\n",
        "    hard_predictions = F.softmax(student1(inputs), dim=1)\n",
        "    student_loss = criterion(hard_predictions, labels)\n",
        "\n",
        "    soft_labels = F.softmax(teacher(inputs), dim=1)\n",
        "    soft_predictions = student1(inputs)\n",
        "    distillation_loss = criterion(soft_predictions, soft_labels)\n",
        "\n",
        "    loss = alpha*student_loss + (1-alpha)*distillation_loss\n",
        "\n",
        "    optimizer.zero_grad()\n",
        "    loss.backward()\n",
        "    running_loss += loss.item()\n",
        "\n",
        "    optimizer.step()\n",
        "\n",
        "  # Finding out training loss\n",
        "  train_loss = running_loss/len(train_loader)\n",
        "  training_loss_1.append(train_loss)\n",
        "\n",
        "  print('Epoch [%d / %d] | Train Loss: %.3f |'%((i+1), epochs, train_loss), end=' ')\n",
        "\n",
        "  # Finding out validation loss and accuracy\n",
        "  running_loss = 0.0\n",
        "  with torch.no_grad():\n",
        "      for inputs, labels in val_loader:\n",
        "          inputs, labels = inputs.to(device), labels.to(device)\n",
        "          outputs = student1(inputs)\n",
        "          loss = criterion(outputs, labels)\n",
        "          running_loss += loss.item()\n",
        "\n",
        "          predictions = F.softmax(outputs, dim = 1)\n",
        "          _, predicted = torch.max(predictions.data, 1)\n",
        "          total += labels.size(0)\n",
        "          correct += (predicted == labels).sum().item()\n",
        "\n",
        "  val_loss = running_loss/len(val_loader)\n",
        "  validation_loss_1.append(val_loss)\n",
        "  print(f'Validation Accuracy: {100 * correct // total} %')\n",
        "  print()"
      ]
    },
    {
      "cell_type": "code",
      "execution_count": null,
      "metadata": {
        "colab": {
          "base_uri": "https://localhost:8080/"
        },
        "id": "-b2AGnx2cqHg",
        "outputId": "43b96c9e-7942-459d-eb26-aae8ecc51bb2"
      },
      "outputs": [
        {
          "name": "stdout",
          "output_type": "stream",
          "text": [
            "The training set accuracy is : 52 %\n",
            "The validation set accuracy is : 51 %\n",
            "The testing set accuracy is : 51 %\n"
          ]
        }
      ],
      "source": [
        "# Evaluating the model's performance on the dataset\n",
        "train_acc_1, val_acc_1, test_acc_1 = evaluate(student1, train_loader, val_loader, test_loader)"
      ]
    },
    {
      "cell_type": "markdown",
      "metadata": {
        "id": "731ivPDIf4Pr"
      },
      "source": [
        "# Student2"
      ]
    },
    {
      "cell_type": "code",
      "execution_count": null,
      "metadata": {
        "colab": {
          "base_uri": "https://localhost:8080/"
        },
        "id": "BLOEyg5ScqHh",
        "outputId": "eb4b0390-d449-4e7d-a500-60b4144da2ad"
      },
      "outputs": [
        {
          "name": "stdout",
          "output_type": "stream",
          "text": [
            "Student(\n",
            "  (layer1): Sequential(\n",
            "    (0): Conv2d(3, 16, kernel_size=(11, 11), stride=(4, 4))\n",
            "    (1): BatchNorm2d(16, eps=1e-05, momentum=0.1, affine=True, track_running_stats=True)\n",
            "    (2): ReLU()\n",
            "    (3): MaxPool2d(kernel_size=3, stride=2, padding=0, dilation=1, ceil_mode=False)\n",
            "  )\n",
            "  (layer2): Sequential(\n",
            "    (0): Conv2d(16, 32, kernel_size=(5, 5), stride=(2, 2), padding=(2, 2))\n",
            "    (1): BatchNorm2d(32, eps=1e-05, momentum=0.1, affine=True, track_running_stats=True)\n",
            "    (2): ReLU()\n",
            "    (3): MaxPool2d(kernel_size=3, stride=2, padding=0, dilation=1, ceil_mode=False)\n",
            "  )\n",
            "  (fc): Sequential(\n",
            "    (0): Dropout(p=0.5, inplace=False)\n",
            "    (1): Linear(in_features=1152, out_features=512, bias=True)\n",
            "    (2): ReLU()\n",
            "  )\n",
            "  (fc1): Sequential(\n",
            "    (0): Dropout(p=0.5, inplace=False)\n",
            "    (1): Linear(in_features=512, out_features=256, bias=True)\n",
            "    (2): ReLU()\n",
            "  )\n",
            "  (fc2): Sequential(\n",
            "    (0): Linear(in_features=256, out_features=10, bias=True)\n",
            "  )\n",
            ")\n"
          ]
        }
      ],
      "source": [
        "student2 = Student()\n",
        "student2 = student2.to(device)\n",
        "\n",
        "print(student2)"
      ]
    },
    {
      "cell_type": "code",
      "execution_count": null,
      "metadata": {
        "id": "ldENOsW1cqHh"
      },
      "outputs": [],
      "source": [
        "# Defining the training parameters\n",
        "num_classes = 10\n",
        "epochs = 10\n",
        "batch_size = 64\n",
        "learning_rate = 0.005\n",
        "\n",
        "# Loss and optimizer\n",
        "criterion = nn.CrossEntropyLoss()\n",
        "optimizer = torch.optim.SGD(student2.parameters(), lr=learning_rate, weight_decay = 0.005, momentum = 0.9)"
      ]
    },
    {
      "cell_type": "code",
      "execution_count": null,
      "metadata": {
        "colab": {
          "base_uri": "https://localhost:8080/"
        },
        "id": "ogfp7J_0cqHh",
        "outputId": "99962162-0e8f-441f-b547-5c28cce487ab"
      },
      "outputs": [
        {
          "name": "stdout",
          "output_type": "stream",
          "text": [
            "Epoch [1 / 10] | Train Loss: 1.676 | Validation Accuracy: 44 %\n",
            "\n",
            "Epoch [2 / 10] | Train Loss: 1.398 | Validation Accuracy: 52 %\n",
            "\n",
            "Epoch [3 / 10] | Train Loss: 1.288 | Validation Accuracy: 56 %\n",
            "\n",
            "Epoch [4 / 10] | Train Loss: 1.223 | Validation Accuracy: 57 %\n",
            "\n",
            "Epoch [5 / 10] | Train Loss: 1.183 | Validation Accuracy: 58 %\n",
            "\n",
            "Epoch [6 / 10] | Train Loss: 1.152 | Validation Accuracy: 61 %\n",
            "\n",
            "Epoch [7 / 10] | Train Loss: 1.128 | Validation Accuracy: 61 %\n",
            "\n",
            "Epoch [8 / 10] | Train Loss: 1.107 | Validation Accuracy: 62 %\n",
            "\n",
            "Epoch [9 / 10] | Train Loss: 1.091 | Validation Accuracy: 62 %\n",
            "\n",
            "Epoch [10 / 10] | Train Loss: 1.076 | Validation Accuracy: 64 %\n",
            "\n"
          ]
        }
      ],
      "source": [
        "# Student2 - learns entirely from the teacher network, no contribution of training data\n",
        "\n",
        "alpha = 0.0\n",
        "\n",
        "training_loss_2 = []\n",
        "validation_loss_2 = []\n",
        "\n",
        "for i in range(epochs):\n",
        "  running_loss = 0.0\n",
        "  correct = 0\n",
        "  total = 0\n",
        "  for inputs, labels in train_loader:\n",
        "    inputs, labels = inputs.to(device), labels.to(device)\n",
        "    hard_predictions = F.softmax(student2(inputs), dim=1)\n",
        "    student_loss = criterion(hard_predictions, labels)\n",
        "\n",
        "    soft_labels = F.softmax(teacher(inputs), dim=1)\n",
        "    soft_predictions = student2(inputs)\n",
        "    distillation_loss = criterion(soft_predictions, soft_labels)\n",
        "\n",
        "    loss = alpha*student_loss + (1-alpha)*distillation_loss\n",
        "\n",
        "    optimizer.zero_grad()\n",
        "    loss.backward()\n",
        "    running_loss += loss.item()\n",
        "\n",
        "    optimizer.step()\n",
        "\n",
        "  # Finding out training loss\n",
        "  train_loss = running_loss/len(train_loader)\n",
        "  training_loss_2.append(train_loss)\n",
        "\n",
        "  print('Epoch [%d / %d] | Train Loss: %.3f |'%((i+1), epochs, train_loss), end=' ')\n",
        "\n",
        "  # Finding out validation loss and accuracy\n",
        "  running_loss = 0.0\n",
        "  with torch.no_grad():\n",
        "      for inputs, labels in val_loader:\n",
        "          inputs, labels = inputs.to(device), labels.to(device)\n",
        "          outputs = student2(inputs)\n",
        "          loss = criterion(outputs, labels)\n",
        "          running_loss += loss.item()\n",
        "\n",
        "          predictions = F.softmax(outputs, dim = 1)\n",
        "          _, predicted = torch.max(predictions.data, 1)\n",
        "          total += labels.size(0)\n",
        "          correct += (predicted == labels).sum().item()\n",
        "\n",
        "  val_loss = running_loss/len(val_loader)\n",
        "  validation_loss_2.append(val_loss)\n",
        "  print(f'Validation Accuracy: {100 * correct // total} %')\n",
        "  print()"
      ]
    },
    {
      "cell_type": "code",
      "execution_count": null,
      "metadata": {
        "colab": {
          "base_uri": "https://localhost:8080/"
        },
        "id": "lXNQNPn6cqHh",
        "outputId": "25f8bad2-16c9-48b6-eda4-6e0650f4f451"
      },
      "outputs": [
        {
          "name": "stdout",
          "output_type": "stream",
          "text": [
            "The training set accuracy is : 64 %\n",
            "The validation set accuracy is : 63 %\n",
            "The testing set accuracy is : 63 %\n"
          ]
        }
      ],
      "source": [
        "# Evaluating the model's performance on the dataset\n",
        "train_acc_2, val_acc_2, test_acc_2 = evaluate(student2, train_loader, val_loader, test_loader)"
      ]
    },
    {
      "cell_type": "markdown",
      "metadata": {
        "id": "ynq1ZkHdf7qi"
      },
      "source": [
        "# Student3"
      ]
    },
    {
      "cell_type": "code",
      "execution_count": null,
      "metadata": {
        "colab": {
          "base_uri": "https://localhost:8080/"
        },
        "id": "TXlepzrCcqHh",
        "outputId": "5880849d-83bd-4582-ad6b-8dbc50a12396"
      },
      "outputs": [
        {
          "name": "stdout",
          "output_type": "stream",
          "text": [
            "Student(\n",
            "  (layer1): Sequential(\n",
            "    (0): Conv2d(3, 16, kernel_size=(11, 11), stride=(4, 4))\n",
            "    (1): BatchNorm2d(16, eps=1e-05, momentum=0.1, affine=True, track_running_stats=True)\n",
            "    (2): ReLU()\n",
            "    (3): MaxPool2d(kernel_size=3, stride=2, padding=0, dilation=1, ceil_mode=False)\n",
            "  )\n",
            "  (layer2): Sequential(\n",
            "    (0): Conv2d(16, 32, kernel_size=(5, 5), stride=(2, 2), padding=(2, 2))\n",
            "    (1): BatchNorm2d(32, eps=1e-05, momentum=0.1, affine=True, track_running_stats=True)\n",
            "    (2): ReLU()\n",
            "    (3): MaxPool2d(kernel_size=3, stride=2, padding=0, dilation=1, ceil_mode=False)\n",
            "  )\n",
            "  (fc): Sequential(\n",
            "    (0): Dropout(p=0.5, inplace=False)\n",
            "    (1): Linear(in_features=1152, out_features=512, bias=True)\n",
            "    (2): ReLU()\n",
            "  )\n",
            "  (fc1): Sequential(\n",
            "    (0): Dropout(p=0.5, inplace=False)\n",
            "    (1): Linear(in_features=512, out_features=256, bias=True)\n",
            "    (2): ReLU()\n",
            "  )\n",
            "  (fc2): Sequential(\n",
            "    (0): Linear(in_features=256, out_features=10, bias=True)\n",
            "  )\n",
            ")\n"
          ]
        }
      ],
      "source": [
        "student3 = Student()\n",
        "student3 = student3.to(device)\n",
        "\n",
        "print(student3)"
      ]
    },
    {
      "cell_type": "code",
      "execution_count": null,
      "metadata": {
        "id": "20636rVAcqHh"
      },
      "outputs": [],
      "source": [
        "# Defining the training parameters\n",
        "num_classes = 10\n",
        "epochs = 10\n",
        "batch_size = 64\n",
        "learning_rate = 0.005\n",
        "\n",
        "# Loss and optimizer\n",
        "criterion = nn.CrossEntropyLoss()\n",
        "optimizer = torch.optim.SGD(student3.parameters(), lr=learning_rate, weight_decay = 0.005, momentum = 0.9)"
      ]
    },
    {
      "cell_type": "code",
      "execution_count": null,
      "metadata": {
        "colab": {
          "background_save": true,
          "base_uri": "https://localhost:8080/"
        },
        "id": "yO2nVpo_cqHi",
        "outputId": "00c675ff-2362-4e78-f1ba-534b1b982a3f"
      },
      "outputs": [
        {
          "name": "stdout",
          "output_type": "stream",
          "text": [
            "Epoch [1 / 10] | Train Loss: 1.964 | Validation Accuracy: 44 %\n",
            "\n",
            "Epoch [2 / 10] | Train Loss: 1.746 | Validation Accuracy: 52 %\n",
            "\n",
            "Epoch [3 / 10] | Train Loss: 1.661 | Validation Accuracy: 54 %\n",
            "\n",
            "Epoch [4 / 10] | Train Loss: 1.613 | Validation Accuracy: 57 %\n",
            "\n",
            "Epoch [5 / 10] | Train Loss: 1.581 | Validation Accuracy: 59 %\n",
            "\n",
            "Epoch [6 / 10] | Train Loss: 1.559 | Validation Accuracy: 60 %\n",
            "\n",
            "Epoch [7 / 10] | Train Loss: 1.542 | Validation Accuracy: 61 %\n",
            "\n",
            "Epoch [8 / 10] | Train Loss: 1.531 | Validation Accuracy: 61 %\n",
            "\n",
            "Epoch [9 / 10] | Train Loss: 1.520 | Validation Accuracy: 62 %\n",
            "\n",
            "Epoch [10 / 10] | Train Loss: 1.508 | Validation Accuracy: 64 %\n",
            "\n"
          ]
        }
      ],
      "source": [
        "# Student3 - learns from both the teacher network as well as training data equally\n",
        "\n",
        "alpha = 0.5\n",
        "\n",
        "training_loss_3 = []\n",
        "validation_loss_3 = []\n",
        "\n",
        "for i in range(epochs):\n",
        "  running_loss = 0.0\n",
        "  correct = 0\n",
        "  total = 0\n",
        "  for inputs, labels in train_loader:\n",
        "    inputs, labels = inputs.to(device), labels.to(device)\n",
        "    hard_predictions = F.softmax(student3(inputs), dim=1)\n",
        "    student_loss = criterion(hard_predictions, labels)\n",
        "\n",
        "    soft_labels = F.softmax(teacher(inputs), dim=1)\n",
        "    soft_predictions = student3(inputs)\n",
        "    distillation_loss = criterion(soft_predictions, soft_labels)\n",
        "\n",
        "    loss = alpha*student_loss + (1-alpha)*distillation_loss\n",
        "\n",
        "    optimizer.zero_grad()\n",
        "    loss.backward()\n",
        "    running_loss += loss.item()\n",
        "\n",
        "    optimizer.step()\n",
        "\n",
        "  # Finding out training loss\n",
        "  train_loss = running_loss/len(train_loader)\n",
        "  training_loss_3.append(train_loss)\n",
        "\n",
        "  print('Epoch [%d / %d] | Train Loss: %.3f |'%((i+1), epochs, train_loss), end=' ')\n",
        "\n",
        "  # Finding out validation loss and accuracy\n",
        "  running_loss = 0.0\n",
        "  with torch.no_grad():\n",
        "      for inputs, labels in val_loader:\n",
        "          inputs, labels = inputs.to(device), labels.to(device)\n",
        "          outputs = student3(inputs)\n",
        "          loss = criterion(outputs, labels)\n",
        "          running_loss += loss.item()\n",
        "\n",
        "          predictions = F.softmax(outputs, dim = 1)\n",
        "          _, predicted = torch.max(predictions.data, 1)\n",
        "          total += labels.size(0)\n",
        "          correct += (predicted == labels).sum().item()\n",
        "\n",
        "  val_loss = running_loss/len(val_loader)\n",
        "  validation_loss_3.append(val_loss)\n",
        "  print(f'Validation Accuracy: {100 * correct // total} %')\n",
        "  print()"
      ]
    },
    {
      "cell_type": "code",
      "execution_count": null,
      "metadata": {
        "colab": {
          "background_save": true
        },
        "id": "KKNXUmlzcqHi",
        "outputId": "1832faa1-3dde-4d53-e1a4-d480274925a5"
      },
      "outputs": [
        {
          "name": "stdout",
          "output_type": "stream",
          "text": [
            "The training set accuracy is : 64 %\n",
            "The validation set accuracy is : 63 %\n",
            "The testing set accuracy is : 63 %\n"
          ]
        }
      ],
      "source": [
        "# Evaluating the model's performance on the dataset\n",
        "train_acc_3, val_acc_3, test_acc_3 = evaluate(student3, train_loader, val_loader, test_loader)"
      ]
    },
    {
      "cell_type": "markdown",
      "metadata": {
        "id": "qI2-52lmf_sv"
      },
      "source": [
        "# Comparison of Student Networks"
      ]
    },
    {
      "cell_type": "code",
      "execution_count": null,
      "metadata": {
        "colab": {
          "background_save": true
        },
        "id": "1edFbgQTcqHi",
        "outputId": "d6eeee87-7ed0-4c0e-b0b3-e7931d4803cc"
      },
      "outputs": [
        {
          "data": {
            "image/png": "[encoded data removed]",
            "text/plain": [
              "<Figure size 640x480 with 1 Axes>"
            ]
          },
          "metadata": {},
          "output_type": "display_data"
        }
      ],
      "source": [
        "# Comparing the performance of the three students on training data\n",
        "\n",
        "plt.figure()\n",
        "plt.plot([(i+1) for i in range(epochs)], training_loss_1, 'r', linewidth=2)\n",
        "plt.plot([(i+1) for i in range(epochs)], training_loss_2, 'g', linewidth=2)\n",
        "plt.plot([(i+1) for i in range(epochs)], training_loss_3, 'b', linewidth=2)\n",
        "plt.xlabel('epochs')\n",
        "plt.ylabel('training loss')\n",
        "plt.legend(['student1 (training data)', 'student2 (teacher)', 'student3 (teacher + training data)'])\n",
        "plt.title('Comparing Training Set Performance of Students')\n",
        "plt.show()"
      ]
    },
    {
      "cell_type": "code",
      "execution_count": null,
      "metadata": {
        "colab": {
          "background_save": true
        },
        "id": "U0nBOYNMcqHi",
        "outputId": "70d81e43-33f4-4166-ddf6-7a7f8fb82383"
      },
      "outputs": [
        {
          "data": {
            "image/png": "[encoded data removed]",
            "text/plain": [
              "<Figure size 640x480 with 1 Axes>"
            ]
          },
          "metadata": {},
          "output_type": "display_data"
        }
      ],
      "source": [
        "# Comparing the performance of the three students on validation data\n",
        "\n",
        "plt.figure()\n",
        "plt.plot([(i+1) for i in range(epochs)], validation_loss_1, 'r', linewidth=2)\n",
        "plt.plot([(i+1) for i in range(epochs)], validation_loss_2, 'g', linewidth=2)\n",
        "plt.plot([(i+1) for i in range(epochs)], validation_loss_3, 'b', linewidth=2)\n",
        "plt.xlabel('epochs')\n",
        "plt.ylabel('validation loss')\n",
        "plt.legend(['student1 (training data)', 'student2 (teacher)', 'student3 (teacher + training data)'])\n",
        "plt.title('Comparing Validation Set Performance of Students')\n",
        "plt.show()"
      ]
    },
    {
      "cell_type": "code",
      "source": [
        "# Comparative evaluation of the student networks' performance against the teacher network\n",
        "data = {\n",
        "   'Teacher': [train_acc, val_acc, test_acc],\n",
        "   'Student1': [train_acc_1, val_acc_1, test_acc_1],\n",
        "   'Student2': [train_acc_2, val_acc_2, test_acc_2],\n",
        "   'Student3': [train_acc_3, val_acc_3, test_acc_3],\n",
        "}\n",
        "\n",
        "labels = ['Training Accuracy', 'Validation Accuracy', 'Testing Accuracy']\n",
        "bar_width = 0.2\n",
        "\n",
        "x_pos = np.arange(len(labels))\n",
        "\n",
        "fig, ax = plt.subplots()\n",
        "\n",
        "for i, (group, values) in enumerate(data.items()):\n",
        "   pos = x_pos + (i * bar_width)\n",
        "   ax.bar(pos, values, width=bar_width, label=group)\n",
        "\n",
        "ax.set_xticks(x_pos + ((len(data) - 1) / 2) * bar_width)\n",
        "ax.set_xticklabels(labels)\n",
        "\n",
        "ax.legend()\n",
        "\n",
        "ax.set_ylabel('Accuracy (%)')\n",
        "ax.set_title('Comparing Teacher and Student Networks')\n",
        "\n",
        "plt.show()"
      ],
      "metadata": {
        "id": "f_lWdQbQCorx"
      },
      "execution_count": null,
      "outputs": []
    },
    {
      "cell_type": "markdown",
      "source": [
        "\n",
        "Observations -\n",
        "\n",
        "*   The 3 student networks show significantly worse performance than the teacher AlexNet network, which is to be expected given the difference in their complexities.\n",
        "*   Each student network has 743k parameters, and is of size 2.8 MB, as compared to the teacher network, which has 59M parameters and is of size 222 MB, significantly higher than the student networks.\n",
        "* Student2 (trained from only the teacher network) and Student3 (trained from both the teacher network as well as the training dataset) give identical accuracies on the training, validation and testing datasets, while Student1 (trained from only the training dataset) gives much lower accuracies.\n",
        "\n",
        "Conclusion -\n",
        "* We can conclude that when a much lighter and less complex student network needs to be used for predictive analysis on a large dataset and can only be trained for a low number of epochs, it is best to train it using knowledge distillation from a much more complex teacher network, which has already been pre-trained on the said dataset. The student network will return better performances if it learns to mimic the teacher network's predictions, rather than trying to learn from the large, complex dataset itself.\n",
        "\n",
        "Further Work -\n",
        "* We can experiment with and compare the student networks' performance by only allowing them to utilise a small portion of the entire dataset during the training process.\n",
        "\n"
      ],
      "metadata": {
        "id": "wqgcnn_fElnT"
      }
    }
  ],
  "metadata": {
    "accelerator": "GPU",
    "colab": {
      "gpuType": "T4",
      "provenance": []
    },
    "kaggle": {
      "accelerator": "gpu",
      "dataSources": [],
      "dockerImageVersionId": 30665,
      "isGpuEnabled": true,
      "isInternetEnabled": true,
      "language": "python",
      "sourceType": "notebook"
    },
    "kernelspec": {
      "display_name": "Python 3",
      "name": "python3"
    },
    "language_info": {
      "codemirror_mode": {
        "name": "ipython",
        "version": 3
      },
      "file_extension": ".py",
      "mimetype": "text/x-python",
      "name": "python",
      "nbconvert_exporter": "python",
      "pygments_lexer": "ipython3",
      "version": "3.10.13"
    }
  },
  "nbformat": 4,
  "nbformat_minor": 0
}